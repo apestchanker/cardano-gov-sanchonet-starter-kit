{
 "cells": [
  {
   "cell_type": "markdown",
   "metadata": {},
   "source": [
    "## Checking your Setup\n",
    "\n",
    "Confirm that you have a Sanchonet Node attached to your Workspace and review its version"
   ]
  },
  {
   "cell_type": "markdown",
   "metadata": {},
   "source": [
    "If you selected the Cardano Gov Sanchonet Starter Kit to create your workspace you will have a setup that shall look like this:\n",
    "\n",
    "![Workspace Setup](imgs/Demeter_Sanchonet_Workspace_Setup.png)"
   ]
  },
  {
   "cell_type": "markdown",
   "metadata": {},
   "source": [
    "### if your setup is OK then let's check if everything is working"
   ]
  },
  {
   "cell_type": "markdown",
   "metadata": {},
   "source": [
    "1- Export the environment variables"
   ]
  },
  {
   "cell_type": "code",
   "execution_count": null,
   "metadata": {
    "vscode": {
     "languageId": "shellscript"
    }
   },
   "outputs": [],
   "source": [
    "export CARDANO_NODE_SOCKET_PATH=/ipc/node.socket\n",
    "export CARDANO_TESTNET_MAGIC=4"
   ]
  },
  {
   "cell_type": "markdown",
   "metadata": {},
   "source": [
    "2- Verify CLI Version (You should have version 8.13 or above)"
   ]
  },
  {
   "cell_type": "code",
   "execution_count": null,
   "metadata": {
    "vscode": {
     "languageId": "shellscript"
    }
   },
   "outputs": [],
   "source": [
    "cardano-cli version"
   ]
  },
  {
   "cell_type": "markdown",
   "metadata": {},
   "source": [
    "3- Verify SanchoNet Node and its version (You should have version 8.6.0 or above)"
   ]
  },
  {
   "cell_type": "code",
   "execution_count": null,
   "metadata": {
    "vscode": {
     "languageId": "shellscript"
    }
   },
   "outputs": [],
   "source": [
    "cardano-node --version"
   ]
  },
  {
   "cell_type": "markdown",
   "metadata": {},
   "source": [
    "### What if your node version is less?\n",
    "\n",
    "On your demeter.run console, check that in the connected extensions you have selected the proper node, as you can see below\n",
    "\n",
    "![SanchoNet node](imgs/Demeter_Sanchonet_Node.png)"
   ]
  }
 ],
 "metadata": {
  "kernelspec": {
   "display_name": "Bash",
   "language": "bash",
   "name": "bash"
  },
  "language_info": {
   "codemirror_mode": "shell",
   "file_extension": ".sh",
   "mimetype": "text/x-sh",
   "name": "bash"
  },
  "orig_nbformat": 4
 },
 "nbformat": 4,
 "nbformat_minor": 2
}
